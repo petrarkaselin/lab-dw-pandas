{
 "cells": [
  {
   "cell_type": "markdown",
   "id": "25d7736c-ba17-4aff-b6bb-66eba20fbf4e",
   "metadata": {},
   "source": [
    "# Lab | Pandas"
   ]
  },
  {
   "cell_type": "markdown",
   "id": "d1973e9e-8be6-4039-b70e-d73ee0d94c99",
   "metadata": {},
   "source": [
    "In this lab, we will be working with the customer data from an insurance company, which can be found in the CSV file located at the following link: https://raw.githubusercontent.com/data-bootcamp-v4/data/main/file1.csv\n",
    "\n",
    "The data includes information such as customer ID, state, gender, education, income, and other variables that can be used to perform various analyses.\n",
    "\n",
    "Throughout the lab, we will be using the pandas library in Python to manipulate and analyze the data. Pandas is a powerful library that provides various data manipulation and analysis tools, including the ability to load and manipulate data from a variety of sources, including CSV files."
   ]
  },
  {
   "cell_type": "markdown",
   "id": "8045146f-f4f7-44d9-8cd9-130d6400c73a",
   "metadata": {},
   "source": [
    "### Data Description\n",
    "\n",
    "- Customer - Customer ID\n",
    "\n",
    "- ST - State where customers live\n",
    "\n",
    "- Gender - Gender of the customer\n",
    "\n",
    "- Education - Background education of customers \n",
    "\n",
    "- Customer Lifetime Value - Customer lifetime value(CLV) is the total revenue the client will derive from their entire relationship with a customer. In other words, is the predicted or calculated value of a customer over their entire duration as a policyholder with the insurance company. It is an estimation of the net profit that the insurance company expects to generate from a customer throughout their relationship with the company. Customer Lifetime Value takes into account factors such as the duration of the customer's policy, premium payments, claim history, renewal likelihood, and potential additional services or products the customer may purchase. It helps insurers assess the long-term profitability and value associated with retaining a particular customer.\n",
    "\n",
    "- Income - Customers income\n",
    "\n",
    "- Monthly Premium Auto - Amount of money the customer pays on a monthly basis as a premium for their auto insurance coverage. It represents the recurring cost that the insured person must pay to maintain their insurance policy and receive coverage for potential damages, accidents, or other covered events related to their vehicle.\n",
    "\n",
    "- Number of Open Complaints - Number of complaints the customer opened\n",
    "\n",
    "- Policy Type - There are three type of policies in car insurance (Corporate Auto, Personal Auto, and Special Auto)\n",
    "\n",
    "- Vehicle Class - Type of vehicle classes that customers have Two-Door Car, Four-Door Car SUV, Luxury SUV, Sports Car, and Luxury Car\n",
    "\n",
    "- Total Claim Amount - the sum of all claims made by the customer. It represents the total monetary value of all approved claims for incidents such as accidents, theft, vandalism, or other covered events.\n"
   ]
  },
  {
   "cell_type": "markdown",
   "id": "3a72419b-20fc-4905-817a-8c83abc59de6",
   "metadata": {},
   "source": [
    "External Resources: https://towardsdatascience.com/filtering-data-frames-in-pandas-b570b1f834b9"
   ]
  },
  {
   "cell_type": "markdown",
   "id": "8f8ece17-e919-4e23-96c0-c7c59778436a",
   "metadata": {},
   "source": [
    "## Challenge 1: Understanding the data\n",
    "\n",
    "In this challenge, you will use pandas to explore a given dataset. Your task is to gain a deep understanding of the data by analyzing its characteristics, dimensions, and statistical properties."
   ]
  },
  {
   "cell_type": "markdown",
   "id": "91437bd5-59a6-49c0-8150-ef0e6e6eb253",
   "metadata": {},
   "source": [
    "- Identify the dimensions of the dataset by determining the number of rows and columns it contains.\n",
    "- Determine the data types of each column and evaluate whether they are appropriate for the nature of the variable. You should also provide suggestions for fixing any incorrect data types.\n",
    "- Identify the number of unique values for each column and determine which columns appear to be categorical. You should also describe the unique values of each categorical column and the range of values for numerical columns, and give your insights.\n",
    "- Compute summary statistics such as mean, median, mode, standard deviation, and quartiles to understand the central tendency and distribution of the data for numerical columns. You should also provide your conclusions based on these summary statistics.\n",
    "- Compute summary statistics for categorical columns and providing your conclusions based on these statistics."
   ]
  },
  {
   "cell_type": "code",
   "execution_count": 1,
   "id": "dd4e8cd8-a6f6-486c-a5c4-1745b0c035f4",
   "metadata": {},
   "outputs": [
    {
     "name": "stdout",
     "output_type": "stream",
     "text": [
      "The dataset has 4008 rows and 11 columns.\n"
     ]
    },
    {
     "data": {
      "text/html": [
       "<div>\n",
       "<style scoped>\n",
       "    .dataframe tbody tr th:only-of-type {\n",
       "        vertical-align: middle;\n",
       "    }\n",
       "\n",
       "    .dataframe tbody tr th {\n",
       "        vertical-align: top;\n",
       "    }\n",
       "\n",
       "    .dataframe thead th {\n",
       "        text-align: right;\n",
       "    }\n",
       "</style>\n",
       "<table border=\"1\" class=\"dataframe\">\n",
       "  <thead>\n",
       "    <tr style=\"text-align: right;\">\n",
       "      <th></th>\n",
       "      <th>Customer</th>\n",
       "      <th>ST</th>\n",
       "      <th>GENDER</th>\n",
       "      <th>Education</th>\n",
       "      <th>Customer Lifetime Value</th>\n",
       "      <th>Income</th>\n",
       "      <th>Monthly Premium Auto</th>\n",
       "      <th>Number of Open Complaints</th>\n",
       "      <th>Policy Type</th>\n",
       "      <th>Vehicle Class</th>\n",
       "      <th>Total Claim Amount</th>\n",
       "    </tr>\n",
       "  </thead>\n",
       "  <tbody>\n",
       "    <tr>\n",
       "      <th>0</th>\n",
       "      <td>RB50392</td>\n",
       "      <td>Washington</td>\n",
       "      <td>NaN</td>\n",
       "      <td>Master</td>\n",
       "      <td>NaN</td>\n",
       "      <td>0.0</td>\n",
       "      <td>1000.0</td>\n",
       "      <td>1/0/00</td>\n",
       "      <td>Personal Auto</td>\n",
       "      <td>Four-Door Car</td>\n",
       "      <td>2.704934</td>\n",
       "    </tr>\n",
       "    <tr>\n",
       "      <th>1</th>\n",
       "      <td>QZ44356</td>\n",
       "      <td>Arizona</td>\n",
       "      <td>F</td>\n",
       "      <td>Bachelor</td>\n",
       "      <td>697953.59%</td>\n",
       "      <td>0.0</td>\n",
       "      <td>94.0</td>\n",
       "      <td>1/0/00</td>\n",
       "      <td>Personal Auto</td>\n",
       "      <td>Four-Door Car</td>\n",
       "      <td>1131.464935</td>\n",
       "    </tr>\n",
       "    <tr>\n",
       "      <th>2</th>\n",
       "      <td>AI49188</td>\n",
       "      <td>Nevada</td>\n",
       "      <td>F</td>\n",
       "      <td>Bachelor</td>\n",
       "      <td>1288743.17%</td>\n",
       "      <td>48767.0</td>\n",
       "      <td>108.0</td>\n",
       "      <td>1/0/00</td>\n",
       "      <td>Personal Auto</td>\n",
       "      <td>Two-Door Car</td>\n",
       "      <td>566.472247</td>\n",
       "    </tr>\n",
       "    <tr>\n",
       "      <th>3</th>\n",
       "      <td>WW63253</td>\n",
       "      <td>California</td>\n",
       "      <td>M</td>\n",
       "      <td>Bachelor</td>\n",
       "      <td>764586.18%</td>\n",
       "      <td>0.0</td>\n",
       "      <td>106.0</td>\n",
       "      <td>1/0/00</td>\n",
       "      <td>Corporate Auto</td>\n",
       "      <td>SUV</td>\n",
       "      <td>529.881344</td>\n",
       "    </tr>\n",
       "    <tr>\n",
       "      <th>4</th>\n",
       "      <td>GA49547</td>\n",
       "      <td>Washington</td>\n",
       "      <td>M</td>\n",
       "      <td>High School or Below</td>\n",
       "      <td>536307.65%</td>\n",
       "      <td>36357.0</td>\n",
       "      <td>68.0</td>\n",
       "      <td>1/0/00</td>\n",
       "      <td>Personal Auto</td>\n",
       "      <td>Four-Door Car</td>\n",
       "      <td>17.269323</td>\n",
       "    </tr>\n",
       "  </tbody>\n",
       "</table>\n",
       "</div>"
      ],
      "text/plain": [
       "  Customer          ST GENDER             Education Customer Lifetime Value  \\\n",
       "0  RB50392  Washington    NaN                Master                     NaN   \n",
       "1  QZ44356     Arizona      F              Bachelor              697953.59%   \n",
       "2  AI49188      Nevada      F              Bachelor             1288743.17%   \n",
       "3  WW63253  California      M              Bachelor              764586.18%   \n",
       "4  GA49547  Washington      M  High School or Below              536307.65%   \n",
       "\n",
       "    Income  Monthly Premium Auto Number of Open Complaints     Policy Type  \\\n",
       "0      0.0                1000.0                    1/0/00   Personal Auto   \n",
       "1      0.0                  94.0                    1/0/00   Personal Auto   \n",
       "2  48767.0                 108.0                    1/0/00   Personal Auto   \n",
       "3      0.0                 106.0                    1/0/00  Corporate Auto   \n",
       "4  36357.0                  68.0                    1/0/00   Personal Auto   \n",
       "\n",
       "   Vehicle Class  Total Claim Amount  \n",
       "0  Four-Door Car            2.704934  \n",
       "1  Four-Door Car         1131.464935  \n",
       "2   Two-Door Car          566.472247  \n",
       "3            SUV          529.881344  \n",
       "4  Four-Door Car           17.269323  "
      ]
     },
     "metadata": {},
     "output_type": "display_data"
    }
   ],
   "source": [
    "#1\n",
    "import pandas as pd\n",
    "\n",
    "url = \"https://raw.githubusercontent.com/data-bootcamp-v4/data/main/file1.csv\"\n",
    "df = pd.read_csv(url)\n",
    "\n",
    "#dimensions of the dataset\n",
    "\n",
    "print(f\"The dataset has {df.shape[0]} rows and {df.shape[1]} columns.\")\n",
    "display(df.head())\n"
   ]
  },
  {
   "cell_type": "code",
   "execution_count": 2,
   "id": "96ccba1d",
   "metadata": {},
   "outputs": [
    {
     "name": "stdout",
     "output_type": "stream",
     "text": [
      "Data types of each column:\n"
     ]
    },
    {
     "data": {
      "text/html": [
       "<div>\n",
       "<style scoped>\n",
       "    .dataframe tbody tr th:only-of-type {\n",
       "        vertical-align: middle;\n",
       "    }\n",
       "\n",
       "    .dataframe tbody tr th {\n",
       "        vertical-align: top;\n",
       "    }\n",
       "\n",
       "    .dataframe thead th {\n",
       "        text-align: right;\n",
       "    }\n",
       "</style>\n",
       "<table border=\"1\" class=\"dataframe\">\n",
       "  <thead>\n",
       "    <tr style=\"text-align: right;\">\n",
       "      <th></th>\n",
       "      <th>column_name</th>\n",
       "      <th>type</th>\n",
       "    </tr>\n",
       "  </thead>\n",
       "  <tbody>\n",
       "    <tr>\n",
       "      <th>0</th>\n",
       "      <td>Customer</td>\n",
       "      <td>object</td>\n",
       "    </tr>\n",
       "    <tr>\n",
       "      <th>1</th>\n",
       "      <td>ST</td>\n",
       "      <td>object</td>\n",
       "    </tr>\n",
       "    <tr>\n",
       "      <th>2</th>\n",
       "      <td>GENDER</td>\n",
       "      <td>object</td>\n",
       "    </tr>\n",
       "    <tr>\n",
       "      <th>3</th>\n",
       "      <td>Education</td>\n",
       "      <td>object</td>\n",
       "    </tr>\n",
       "    <tr>\n",
       "      <th>4</th>\n",
       "      <td>Customer Lifetime Value</td>\n",
       "      <td>object</td>\n",
       "    </tr>\n",
       "    <tr>\n",
       "      <th>5</th>\n",
       "      <td>Income</td>\n",
       "      <td>float64</td>\n",
       "    </tr>\n",
       "    <tr>\n",
       "      <th>6</th>\n",
       "      <td>Monthly Premium Auto</td>\n",
       "      <td>float64</td>\n",
       "    </tr>\n",
       "    <tr>\n",
       "      <th>7</th>\n",
       "      <td>Number of Open Complaints</td>\n",
       "      <td>object</td>\n",
       "    </tr>\n",
       "    <tr>\n",
       "      <th>8</th>\n",
       "      <td>Policy Type</td>\n",
       "      <td>object</td>\n",
       "    </tr>\n",
       "    <tr>\n",
       "      <th>9</th>\n",
       "      <td>Vehicle Class</td>\n",
       "      <td>object</td>\n",
       "    </tr>\n",
       "    <tr>\n",
       "      <th>10</th>\n",
       "      <td>Total Claim Amount</td>\n",
       "      <td>float64</td>\n",
       "    </tr>\n",
       "  </tbody>\n",
       "</table>\n",
       "</div>"
      ],
      "text/plain": [
       "                  column_name     type\n",
       "0                    Customer   object\n",
       "1                          ST   object\n",
       "2                      GENDER   object\n",
       "3                   Education   object\n",
       "4     Customer Lifetime Value   object\n",
       "5                      Income  float64\n",
       "6        Monthly Premium Auto  float64\n",
       "7   Number of Open Complaints   object\n",
       "8                 Policy Type   object\n",
       "9               Vehicle Class   object\n",
       "10         Total Claim Amount  float64"
      ]
     },
     "execution_count": 2,
     "metadata": {},
     "output_type": "execute_result"
    }
   ],
   "source": [
    "#2\n",
    "#determine the data types \n",
    "\n",
    "df_types = pd.DataFrame(df.dtypes).reset_index()\n",
    "df_types.columns = ['column_name', 'type']\n",
    "num_rows, num_columns = df.shape\n",
    "print(\"Data types of each column:\")\n",
    "pd.DataFrame(df_types)"
   ]
  },
  {
   "cell_type": "markdown",
   "id": "e1b95867",
   "metadata": {},
   "source": [
    "#Customer Lifetime Value       object\n",
    "#Number of Open Complaints     object\n",
    "\n",
    "'CLV' and 'Number of open complains' are numerical columns, since they contain numerical information. Therefore both columns should have data types like int or float, while categorical variables might have data types like object or category. \n",
    "\n",
    "However, before converting 'CLV' and 'Number of open complains' into numerical columns, they should be first checked for NaN values and inconsistencies (e.g if there are any letters)."
   ]
  },
  {
   "cell_type": "code",
   "execution_count": 3,
   "id": "839edec8",
   "metadata": {},
   "outputs": [],
   "source": [
    "# Convert columns to numerical type AFTER CLEANING\n",
    "#columns_to_convert = [\"Customer Lifetime Value\", \"Number of Open Complaints\"]\n",
    "\n",
    "#for column in columns_to_convert:\n",
    "    #df[column] = pd.to_numeric(df[column], errors='coerce')\n",
    "\n",
    "#print(\"\\nUpdated Data Types after Conversion:\")\n",
    "#print(df.dtypes)"
   ]
  },
  {
   "cell_type": "code",
   "execution_count": 4,
   "id": "90bc9675",
   "metadata": {},
   "outputs": [
    {
     "name": "stdout",
     "output_type": "stream",
     "text": [
      "Number of unique values for each column:\n"
     ]
    },
    {
     "data": {
      "text/html": [
       "<div>\n",
       "<style scoped>\n",
       "    .dataframe tbody tr th:only-of-type {\n",
       "        vertical-align: middle;\n",
       "    }\n",
       "\n",
       "    .dataframe tbody tr th {\n",
       "        vertical-align: top;\n",
       "    }\n",
       "\n",
       "    .dataframe thead th {\n",
       "        text-align: right;\n",
       "    }\n",
       "</style>\n",
       "<table border=\"1\" class=\"dataframe\">\n",
       "  <thead>\n",
       "    <tr style=\"text-align: right;\">\n",
       "      <th></th>\n",
       "      <th>0</th>\n",
       "    </tr>\n",
       "  </thead>\n",
       "  <tbody>\n",
       "    <tr>\n",
       "      <th>Customer</th>\n",
       "      <td>1071</td>\n",
       "    </tr>\n",
       "    <tr>\n",
       "      <th>ST</th>\n",
       "      <td>8</td>\n",
       "    </tr>\n",
       "    <tr>\n",
       "      <th>GENDER</th>\n",
       "      <td>5</td>\n",
       "    </tr>\n",
       "    <tr>\n",
       "      <th>Education</th>\n",
       "      <td>6</td>\n",
       "    </tr>\n",
       "    <tr>\n",
       "      <th>Customer Lifetime Value</th>\n",
       "      <td>1027</td>\n",
       "    </tr>\n",
       "    <tr>\n",
       "      <th>Income</th>\n",
       "      <td>774</td>\n",
       "    </tr>\n",
       "    <tr>\n",
       "      <th>Monthly Premium Auto</th>\n",
       "      <td>132</td>\n",
       "    </tr>\n",
       "    <tr>\n",
       "      <th>Number of Open Complaints</th>\n",
       "      <td>6</td>\n",
       "    </tr>\n",
       "    <tr>\n",
       "      <th>Policy Type</th>\n",
       "      <td>3</td>\n",
       "    </tr>\n",
       "    <tr>\n",
       "      <th>Vehicle Class</th>\n",
       "      <td>6</td>\n",
       "    </tr>\n",
       "    <tr>\n",
       "      <th>Total Claim Amount</th>\n",
       "      <td>761</td>\n",
       "    </tr>\n",
       "  </tbody>\n",
       "</table>\n",
       "</div>"
      ],
      "text/plain": [
       "                              0\n",
       "Customer                   1071\n",
       "ST                            8\n",
       "GENDER                        5\n",
       "Education                     6\n",
       "Customer Lifetime Value    1027\n",
       "Income                      774\n",
       "Monthly Premium Auto        132\n",
       "Number of Open Complaints     6\n",
       "Policy Type                   3\n",
       "Vehicle Class                 6\n",
       "Total Claim Amount          761"
      ]
     },
     "metadata": {},
     "output_type": "display_data"
    },
    {
     "data": {
      "text/html": [
       "<div>\n",
       "<style scoped>\n",
       "    .dataframe tbody tr th:only-of-type {\n",
       "        vertical-align: middle;\n",
       "    }\n",
       "\n",
       "    .dataframe tbody tr th {\n",
       "        vertical-align: top;\n",
       "    }\n",
       "\n",
       "    .dataframe thead th {\n",
       "        text-align: right;\n",
       "    }\n",
       "</style>\n",
       "<table border=\"1\" class=\"dataframe\">\n",
       "  <thead>\n",
       "    <tr style=\"text-align: right;\">\n",
       "      <th></th>\n",
       "      <th>categorical_columns</th>\n",
       "    </tr>\n",
       "  </thead>\n",
       "  <tbody>\n",
       "    <tr>\n",
       "      <th>0</th>\n",
       "      <td>ST</td>\n",
       "    </tr>\n",
       "    <tr>\n",
       "      <th>1</th>\n",
       "      <td>GENDER</td>\n",
       "    </tr>\n",
       "    <tr>\n",
       "      <th>2</th>\n",
       "      <td>Education</td>\n",
       "    </tr>\n",
       "    <tr>\n",
       "      <th>3</th>\n",
       "      <td>Policy Type</td>\n",
       "    </tr>\n",
       "    <tr>\n",
       "      <th>4</th>\n",
       "      <td>Vehicle Class</td>\n",
       "    </tr>\n",
       "  </tbody>\n",
       "</table>\n",
       "</div>"
      ],
      "text/plain": [
       "  categorical_columns\n",
       "0                  ST\n",
       "1              GENDER\n",
       "2           Education\n",
       "3         Policy Type\n",
       "4       Vehicle Class"
      ]
     },
     "metadata": {},
     "output_type": "display_data"
    },
    {
     "name": "stdout",
     "output_type": "stream",
     "text": [
      "\n",
      "Unique values for ST:\n",
      "['Washington' 'Arizona' 'Nevada' 'California' 'Oregon' 'Cali' 'AZ' 'WA'\n",
      " nan]\n",
      "\n",
      "Unique values for GENDER:\n",
      "[nan 'F' 'M' 'Femal' 'Male' 'female']\n",
      "\n",
      "Unique values for Education:\n",
      "['Master' 'Bachelor' 'High School or Below' 'College' 'Bachelors' 'Doctor'\n",
      " nan]\n",
      "\n",
      "Unique values for Policy Type:\n",
      "['Personal Auto' 'Corporate Auto' 'Special Auto' nan]\n",
      "\n",
      "Unique values for Vehicle Class:\n",
      "['Four-Door Car' 'Two-Door Car' 'SUV' 'Luxury SUV' 'Sports Car'\n",
      " 'Luxury Car' nan]\n"
     ]
    }
   ],
   "source": [
    "#3\n",
    "# Display the number of unique values for each column\n",
    "print(\"Number of unique values for each column:\")\n",
    "unic_num = pd.DataFrame(df.nunique())\n",
    "display(unic_num)\n",
    "\n",
    "# Identify categorical columns excluding the specified column(assumption: if unique values <= 10% of total rows, consider as categorical)\n",
    "mistype_column = [\"Number of Open Complaints\", \"Customer Lifetime Value\"]  \n",
    "categorical_columns = df.columns[(df.nunique() <= 10) & (df.columns != mistype_column[0])]\n",
    "categorical_columns_table = pd.DataFrame(categorical_columns)\n",
    "categorical_columns_table.columns = ['categorical_columns']\n",
    "display(categorical_columns_table)\n",
    "\n",
    "\n",
    "# Describe unique values for each categorical column\n",
    "for column in categorical_columns:\n",
    "    unique_values = df[column].unique()\n",
    "    print(f\"\\nUnique values for {column}:\\n{unique_values}\")"
   ]
  },
  {
   "cell_type": "markdown",
   "id": "18bc1ab6",
   "metadata": {},
   "source": [
    "Some of types can also be transformed into 'categorical' type. For our analysis such columns can be determined by quantity of unique values less than 10. But although the column 'Number of Open Complaints' has unique values less than 10, it can not be transformed into categorical type due to the nature of its content (number of complains).  \n",
    "\n",
    "As we can see in the description of categorical columns, there are inconsistencies in multiple columns. \n",
    "\n",
    "   For example, in 'ST' values 'California' and 'Cali' shold be merged in one value, as should 'Washington' and 'WA', 'Arizona' and 'AZ'. \n",
    "\n",
    "   In column 'GENDER' there are similar inconsistencies in values. They should be assigned to 3 categories 'M', 'F' and 'D'(diverse).\n",
    "\n",
    "   I column 'Education' the values 'Bachelor' and 'Bachelors' should also be assighned to single value.\n",
    "\n",
    "The next mistake which also appears in multiple columns is NaN. Which can eliminated as a next step of cleaning process. "
   ]
  },
  {
   "cell_type": "code",
   "execution_count": 5,
   "id": "b07ebf8a",
   "metadata": {},
   "outputs": [
    {
     "name": "stdout",
     "output_type": "stream",
     "text": [
      " The range of column Income is: 0.0 - 99960.0\n",
      " The range of column Monthly Premium Auto is: 61.0 - 35354.0\n",
      " The range of column Total Claim Amount is: 0.382107 - 2893.239678\n"
     ]
    }
   ],
   "source": [
    "#display the range of values for numerical columns\n",
    "numerical_columns = df.select_dtypes(include=[\"int64\", \"float64\"]).columns\n",
    "\n",
    "for column in numerical_columns:\n",
    "    min_value = df[column].min()\n",
    "    max_value = df[column].max()\n",
    "    print(f\" The range of column {column} is: {min_value} - {max_value}\")\n"
   ]
  },
  {
   "cell_type": "markdown",
   "id": "88931395",
   "metadata": {},
   "source": [
    "Because the column 'Customer Lifetime Value' wasn't yet transforemed to numerical value, it's not automatically displayed among numerical columns.\n",
    "\n",
    "The range of other 3 numarical columns shows the minimum and the maximum of a corresponding column."
   ]
  },
  {
   "cell_type": "code",
   "execution_count": 7,
   "id": "f5913bed",
   "metadata": {},
   "outputs": [
    {
     "name": "stdout",
     "output_type": "stream",
     "text": [
      "Summary Statistics for Numerical Columns:\n"
     ]
    },
    {
     "data": {
      "text/html": [
       "<div>\n",
       "<style scoped>\n",
       "    .dataframe tbody tr th:only-of-type {\n",
       "        vertical-align: middle;\n",
       "    }\n",
       "\n",
       "    .dataframe tbody tr th {\n",
       "        vertical-align: top;\n",
       "    }\n",
       "\n",
       "    .dataframe thead th {\n",
       "        text-align: right;\n",
       "    }\n",
       "</style>\n",
       "<table border=\"1\" class=\"dataframe\">\n",
       "  <thead>\n",
       "    <tr style=\"text-align: right;\">\n",
       "      <th></th>\n",
       "      <th>Income</th>\n",
       "      <th>Monthly Premium Auto</th>\n",
       "      <th>Total Claim Amount</th>\n",
       "    </tr>\n",
       "  </thead>\n",
       "  <tbody>\n",
       "    <tr>\n",
       "      <th>count</th>\n",
       "      <td>1071.00</td>\n",
       "      <td>1071.00</td>\n",
       "      <td>1071.00</td>\n",
       "    </tr>\n",
       "    <tr>\n",
       "      <th>mean</th>\n",
       "      <td>39295.70</td>\n",
       "      <td>193.23</td>\n",
       "      <td>404.99</td>\n",
       "    </tr>\n",
       "    <tr>\n",
       "      <th>std</th>\n",
       "      <td>30469.43</td>\n",
       "      <td>1601.19</td>\n",
       "      <td>293.03</td>\n",
       "    </tr>\n",
       "    <tr>\n",
       "      <th>min</th>\n",
       "      <td>0.00</td>\n",
       "      <td>61.00</td>\n",
       "      <td>0.38</td>\n",
       "    </tr>\n",
       "    <tr>\n",
       "      <th>25%</th>\n",
       "      <td>14072.00</td>\n",
       "      <td>68.00</td>\n",
       "      <td>202.16</td>\n",
       "    </tr>\n",
       "    <tr>\n",
       "      <th>50%</th>\n",
       "      <td>36234.00</td>\n",
       "      <td>83.00</td>\n",
       "      <td>354.73</td>\n",
       "    </tr>\n",
       "    <tr>\n",
       "      <th>75%</th>\n",
       "      <td>64631.00</td>\n",
       "      <td>109.50</td>\n",
       "      <td>532.80</td>\n",
       "    </tr>\n",
       "    <tr>\n",
       "      <th>max</th>\n",
       "      <td>99960.00</td>\n",
       "      <td>35354.00</td>\n",
       "      <td>2893.24</td>\n",
       "    </tr>\n",
       "  </tbody>\n",
       "</table>\n",
       "</div>"
      ],
      "text/plain": [
       "         Income  Monthly Premium Auto  Total Claim Amount\n",
       "count   1071.00               1071.00             1071.00\n",
       "mean   39295.70                193.23              404.99\n",
       "std    30469.43               1601.19              293.03\n",
       "min        0.00                 61.00                0.38\n",
       "25%    14072.00                 68.00              202.16\n",
       "50%    36234.00                 83.00              354.73\n",
       "75%    64631.00                109.50              532.80\n",
       "max    99960.00              35354.00             2893.24"
      ]
     },
     "metadata": {},
     "output_type": "display_data"
    }
   ],
   "source": [
    "#summary statistics fro numerical columns\n",
    "stat_summary = df[numerical_columns].describe() \n",
    "stat_summary = stat_summary.round(2)\n",
    "print(\"Summary Statistics for Numerical Columns:\")\n",
    "display(stat_summary)\n",
    "    "
   ]
  },
  {
   "cell_type": "markdown",
   "id": "e15d48f8",
   "metadata": {},
   "source": [
    "Income:\n",
    "\n",
    "   Distribution: The distribution of income is right-skewed, as the mean (39,295.70) is greater than the median (36,234.00). This suggests that there are some higher-income outliers pulling the mean to the right.\n",
    "   Variability: The standard deviation is relatively high (30,469.43), indicating a wide range of incomes.\n",
    "                \n",
    "Monthly Premium Auto:\n",
    "\n",
    "   Premium Range: The monthly premium for auto insurance varies significantly, we can see it from the large standard deviation (1,601.19).\n",
    "   Skewness: Similar to income, the distribution is likely right-skewed, with the mean (193.23), which is higher than the median (83.00).\n",
    "    The presence of a significantly higher maximum premium (35,354.00) compared to the 75th percentile suggests the presence of outliers.\n",
    "    \n",
    "Total Claim Amount:\n",
    "\n",
    "   Claim Distribution: The distribution of total claim amounts is right-skewed, as the mean (404.99) is greater than the median (354.73).\n",
    "   Claim Range: The standard deviation (293.03) indicates some variability in claim amounts, but it is not as high as the variability in income or monthly premiums.\n",
    "    Similar to premiums, the presence of a higher maximum claim amount (2,893.24) compared to the 75th percentile indicates potential outliers.\n",
    "\n",
    "Recommendations:\n",
    "\n",
    "Further exploration is needed to understand and potentially handle outliers in income, monthly premiums, and total claim amounts.\n",
    "Consideration of any zero-income entries to determine whether they are valid or indicate missing data.\n",
    "Visualizations, such as histograms or box plots, can provide additional insights into the distributions and identify potential outliers more easily.\n"
   ]
  },
  {
   "cell_type": "code",
   "execution_count": 71,
   "id": "4e4e2e68",
   "metadata": {},
   "outputs": [
    {
     "name": "stdout",
     "output_type": "stream",
     "text": [
      "Summary Statistics for Categorical Columns:\n"
     ]
    },
    {
     "data": {
      "text/html": [
       "<div>\n",
       "<style scoped>\n",
       "    .dataframe tbody tr th:only-of-type {\n",
       "        vertical-align: middle;\n",
       "    }\n",
       "\n",
       "    .dataframe tbody tr th {\n",
       "        vertical-align: top;\n",
       "    }\n",
       "\n",
       "    .dataframe thead th {\n",
       "        text-align: right;\n",
       "    }\n",
       "</style>\n",
       "<table border=\"1\" class=\"dataframe\">\n",
       "  <thead>\n",
       "    <tr style=\"text-align: right;\">\n",
       "      <th></th>\n",
       "      <th>ST</th>\n",
       "      <th>GENDER</th>\n",
       "      <th>Education</th>\n",
       "      <th>Policy Type</th>\n",
       "      <th>Vehicle Class</th>\n",
       "    </tr>\n",
       "  </thead>\n",
       "  <tbody>\n",
       "    <tr>\n",
       "      <th>count</th>\n",
       "      <td>954</td>\n",
       "      <td>954</td>\n",
       "      <td>954</td>\n",
       "      <td>954</td>\n",
       "      <td>954</td>\n",
       "    </tr>\n",
       "    <tr>\n",
       "      <th>unique</th>\n",
       "      <td>8</td>\n",
       "      <td>5</td>\n",
       "      <td>6</td>\n",
       "      <td>3</td>\n",
       "      <td>6</td>\n",
       "    </tr>\n",
       "    <tr>\n",
       "      <th>top</th>\n",
       "      <td>Oregon</td>\n",
       "      <td>F</td>\n",
       "      <td>Bachelor</td>\n",
       "      <td>Personal Auto</td>\n",
       "      <td>Four-Door Car</td>\n",
       "    </tr>\n",
       "    <tr>\n",
       "      <th>freq</th>\n",
       "      <td>276</td>\n",
       "      <td>457</td>\n",
       "      <td>284</td>\n",
       "      <td>691</td>\n",
       "      <td>508</td>\n",
       "    </tr>\n",
       "  </tbody>\n",
       "</table>\n",
       "</div>"
      ],
      "text/plain": [
       "            ST GENDER Education    Policy Type  Vehicle Class\n",
       "count      954    954       954            954            954\n",
       "unique       8      5         6              3              6\n",
       "top     Oregon      F  Bachelor  Personal Auto  Four-Door Car\n",
       "freq       276    457       284            691            508"
      ]
     },
     "metadata": {},
     "output_type": "display_data"
    }
   ],
   "source": [
    "#summary statistics fro categorical columns\n",
    "categorical_summary = df[categorical_columns].dropna().describe(include='all')  \n",
    "\n",
    "print(\"Summary Statistics for Categorical Columns:\")\n",
    "display(categorical_summary)\n"
   ]
  },
  {
   "cell_type": "markdown",
   "id": "94a346b4",
   "metadata": {},
   "source": [
    "State (ST):\n",
    "    The dataset includes entries from multiple states, with Oregon (OR) being the most represented state.\n",
    "    Further exploration of regional patterns and potential state-specific trends could provide valuable insights.\n",
    "\n",
    "Gender:\n",
    "    The dataset is more heavily skewed toward females, with Female (F) being the most frequently occurring gender.\n",
    "    It might be beneficial to investigate the reasons behind the gender imbalance and assess whether it has any implications for the analysis.\n",
    "\n",
    "Education:\n",
    "    Policies with Bachelor's degrees are the most common, and the education distribution appears somewhat balanced.\n",
    "    However, as it was previously said, cleaning measures should be proveded for the further analysis.\n",
    "\n",
    "Policy Type:\n",
    "    Personal Auto policies dominate the dataset, indicating a significant focus on personal automobile insurance.\n",
    "    \n",
    "Vehicle Class:\n",
    "    Four-Door Car is the most frequently occurring vehicle class.\n",
    "    Understanding the popularity of certain vehicle classes may inform marketing strategies or product offerings.\n",
    "\n",
    "General Recommendations:\n",
    "\n",
    "   Data Quality Check: Explore the data for anomalies, missing data, duplicates and errors that might skew the results.\n",
    "   Visualization: Utilize visualizations to enhance the understanding of categorical distributions and facilitate communication of insights."
   ]
  },
  {
   "cell_type": "markdown",
   "id": "4a703890-63db-4944-b7ab-95a4f8185120",
   "metadata": {},
   "source": [
    "## Challenge 2: analyzing the data"
   ]
  },
  {
   "cell_type": "markdown",
   "id": "0776a403-c56a-452f-ac33-5fd4fdb06fc7",
   "metadata": {},
   "source": [
    "### Exercise 1"
   ]
  },
  {
   "cell_type": "markdown",
   "id": "eedbc484-da4d-4f9c-9343-e1d44311a87e",
   "metadata": {},
   "source": [
    "The marketing team wants to know the top 5 less common customer locations. Create a pandas Series object that contains the customer locations and their frequencies, and then retrieve the top 5 less common locations in ascending order."
   ]
  },
  {
   "cell_type": "code",
   "execution_count": 11,
   "id": "2dca5073-4520-4f42-9390-4b92733284ed",
   "metadata": {},
   "outputs": [
    {
     "name": "stdout",
     "output_type": "stream",
     "text": [
      "Top 5 Less Common Customer Locations:\n"
     ]
    },
    {
     "data": {
      "text/plain": [
       "AZ             25\n",
       "WA             30\n",
       "Washington     81\n",
       "Nevada         98\n",
       "Cali          120\n",
       "Name: ST, dtype: int64"
      ]
     },
     "metadata": {},
     "output_type": "display_data"
    }
   ],
   "source": [
    "location = df['ST']\n",
    "location_frequencies = location.value_counts()\n",
    "top_5_less_common_location = location_frequencies.nsmallest(5)\n",
    "print(\"Top 5 Less Common Customer Locations:\")\n",
    "display(top_5_less_common_location)"
   ]
  },
  {
   "cell_type": "markdown",
   "id": "0ce80f43-4afa-43c7-a78a-c917444da4e0",
   "metadata": {},
   "source": [
    "### Exercise 2\n",
    "\n",
    "The sales team wants to know the total number of policies sold for each type of policy. Create a pandas Series object that contains the policy types and their total number of policies sold, and then retrieve the policy type with the highest number of policies sold."
   ]
  },
  {
   "cell_type": "markdown",
   "id": "a9f13997-1555-4f98-aca6-970fda1d2c3f",
   "metadata": {},
   "source": [
    "*Hint:*\n",
    "- *Using value_counts() method simplifies this analysis.*\n",
    "- *Futhermore, there is a method that returns the index of the maximum value in a column or row.*\n"
   ]
  },
  {
   "cell_type": "code",
   "execution_count": 16,
   "id": "bcfad6c1-9af2-4b0b-9aa9-0dc5c17473c0",
   "metadata": {},
   "outputs": [
    {
     "name": "stdout",
     "output_type": "stream",
     "text": [
      "Total Number of Policies Sold for Each Policy Type:\n"
     ]
    },
    {
     "data": {
      "text/plain": [
       "Personal Auto     780\n",
       "Corporate Auto    234\n",
       "Special Auto       57\n",
       "Name: Policy Type, dtype: int64"
      ]
     },
     "metadata": {},
     "output_type": "display_data"
    },
    {
     "name": "stdout",
     "output_type": "stream",
     "text": [
      "\n",
      "Policy Type with the Highest Number of Policies Sold:\n"
     ]
    },
    {
     "data": {
      "text/plain": [
       "Personal Auto    780\n",
       "Name: Policy Type, dtype: int64"
      ]
     },
     "metadata": {},
     "output_type": "display_data"
    }
   ],
   "source": [
    "policy_types = df['Policy Type']\n",
    "policy_type_counts = policy_types.value_counts()\n",
    "most_sold_policy = policy_type_counts.nlargest(1)\n",
    "print(\"Total Number of Policies Sold for Each Policy Type:\")\n",
    "display(policy_type_counts)\n",
    "\n",
    "print(\"\\nPolicy Type with the Highest Number of Policies Sold:\")\n",
    "display(most_sold_policy)\n"
   ]
  },
  {
   "cell_type": "markdown",
   "id": "0b863fd3-bf91-4d5d-86eb-be29ed9f5b70",
   "metadata": {},
   "source": [
    "### Exercise 3\n",
    "\n",
    "The sales team wants to know if customers with Personal Auto have a lower income than those with Corporate Auto. How does the average income compare between the two policy types?"
   ]
  },
  {
   "cell_type": "markdown",
   "id": "b1386d75-2810-4aa1-93e0-9485aa12d552",
   "metadata": {},
   "source": [
    "- Use *loc* to create two dataframes: one containing only Personal Auto policies and one containing only Corporate Auto policies.\n",
    "- Calculate the average income for each policy.\n",
    "- Print the results."
   ]
  },
  {
   "cell_type": "code",
   "execution_count": 22,
   "id": "0c0563cf-6f8b-463d-a321-651a972f82e5",
   "metadata": {},
   "outputs": [
    {
     "name": "stdout",
     "output_type": "stream",
     "text": [
      "Average Income for Personal Auto Policies: 38180.7\n",
      "Average Income for Corporate Auto Policies: 41390.31\n",
      "Customers with Corporate Auto have a higher average income.\n"
     ]
    }
   ],
   "source": [
    "policy_income_data = df[['Policy Type', 'Income']]\n",
    "\n",
    "# Create two separate DataFrames for Personal Auto and Corporate Auto policies\n",
    "personal_auto_df = policy_income_data.loc[policy_income_data['Policy Type'] == 'Personal Auto']\n",
    "corporate_auto_df = policy_income_data.loc[policy_income_data['Policy Type'] == 'Corporate Auto']\n",
    "\n",
    "# Calculate the average income for each policy type\n",
    "average_income_personal_auto = round(personal_auto_df['Income'].mean(), 2)\n",
    "average_income_corporate_auto = round(corporate_auto_df['Income'].mean(), 2)\n",
    "\n",
    "# Display the results\n",
    "print(\"Average Income for Personal Auto Policies:\", average_income_personal_auto)\n",
    "print(\"Average Income for Corporate Auto Policies:\", average_income_corporate_auto)\n",
    "\n",
    "if average_income_personal_auto > average_income_corporate_auto:\n",
    "    print(\"Customers with Personal Auto have a higher average income.\")\n",
    "elif average_income_personal_auto < average_income_corporate_auto:\n",
    "    print(\"Customers with Corporate Auto have a higher average income.\")\n",
    "else:\n",
    "    print(\"Average incomes are the same for both policy types.\")"
   ]
  },
  {
   "cell_type": "markdown",
   "id": "80b16c27-f4a5-4727-a229-1f88671cf4e2",
   "metadata": {},
   "source": [
    "### Bonus: Exercise 4\n"
   ]
  },
  {
   "cell_type": "markdown",
   "id": "ac584986-299b-475f-ac2e-928c16c3f512",
   "metadata": {},
   "source": [
    "Your goal is to identify customers with a high policy claim amount.\n",
    "\n",
    "Instructions:\n",
    "\n",
    "- Review again the statistics for total claim amount to gain an understanding of the data.\n",
    "- To identify potential areas for improving customer retention and profitability, we want to focus on customers with a high policy claim amount. Consider customers with a high policy claim amount to be those in the top 25% of the total claim amount. Create a pandas DataFrame object that contains information about customers with a policy claim amount greater than the 75th percentile.\n",
    "- Use DataFrame methods to calculate summary statistics about the high policy claim amount data. "
   ]
  },
  {
   "cell_type": "markdown",
   "id": "4e3af5f1-6023-4b05-9c01-d05392daa650",
   "metadata": {},
   "source": [
    "*Note: When analyzing data, we often want to focus on certain groups of values to gain insights. Percentiles are a useful tool to help us define these groups. A percentile is a measure that tells us what percentage of values in a dataset are below a certain value. For example, the 75th percentile represents the value below which 75% of the data falls. Similarly, the 25th percentile represents the value below which 25% of the data falls. When we talk about the top 25%, we are referring to the values that fall above the 75th percentile, which represent the top quarter of the data. On the other hand, when we talk about the bottom 25%, we are referring to the values that fall below the 25th percentile, which represent the bottom quarter of the data. By focusing on these groups, we can identify patterns and trends that may be useful for making decisions and taking action.*\n",
    "\n",
    "*Hint: look for a method that gives you the percentile or quantile 0.75 and 0.25 for a Pandas Series.*"
   ]
  },
  {
   "cell_type": "markdown",
   "id": "2d234634-50bd-41e0-88f7-d5ba684455d1",
   "metadata": {},
   "source": [
    "*Hint 2: check `Boolean selection according to the values of a single column` in https://towardsdatascience.com/filtering-data-frames-in-pandas-b570b1f834b9*"
   ]
  },
  {
   "cell_type": "code",
   "execution_count": 24,
   "id": "b731bca6-a760-4860-a27b-a33efa712ce0",
   "metadata": {},
   "outputs": [
    {
     "name": "stdout",
     "output_type": "stream",
     "text": [
      "Statistics for Total Claim Amount:\n",
      "count    1071.00\n",
      "mean      404.99\n",
      "std       293.03\n",
      "min         0.38\n",
      "25%       202.16\n",
      "50%       354.73\n",
      "75%       532.80\n",
      "max      2893.24\n",
      "Name: Total Claim Amount, dtype: float64\n",
      "\n",
      "75th Percentile for Total Claim Amount: 532.8\n",
      "\n",
      "Summary Statistics for High Policy Claim Amount Data:\n",
      "count     264.00\n",
      "mean      782.23\n",
      "std       292.75\n",
      "min       537.60\n",
      "25%       606.52\n",
      "50%       679.60\n",
      "75%       851.40\n",
      "max      2893.24\n",
      "Name: Total Claim Amount, dtype: float64\n"
     ]
    }
   ],
   "source": [
    "total_claim_amounts = df['Total Claim Amount']\n",
    "claim_amount_stats = total_claim_amounts.describe().round(2)\n",
    "\n",
    "#75th percentile\n",
    "claim_amount_75th_percentile = total_claim_amounts.quantile(0.75).round(2)\n",
    "\n",
    "#DataFrame with customers having a policy claim amount greater than the 75th percentile\n",
    "high_claim_amount_customers = df[df['Total Claim Amount'] > claim_amount_75th_percentile]\n",
    "\n",
    "#summary statistics about the high policy claim amount data\n",
    "high_claim_amount_stats = high_claim_amount_customers['Total Claim Amount'].describe().round(2)\n",
    "\n",
    "print(\"Statistics for Total Claim Amount:\")\n",
    "print(claim_amount_stats)\n",
    "\n",
    "print(\"\\n75th Percentile for Total Claim Amount:\", claim_amount_75th_percentile)\n",
    "\n",
    "print(\"\\nSummary Statistics for High Policy Claim Amount Data:\")\n",
    "print(high_claim_amount_stats)"
   ]
  },
  {
   "cell_type": "markdown",
   "id": "e455fc65",
   "metadata": {},
   "source": [
    "Customers with policy claim amounts above the 75th percentile (532.80) are considered as having high claim amounts.\n",
    "The average claim amount for this subset is significantly higher (782.23) compared to the overall average (404.99).\n",
    "The variability in claim amounts, as indicated by the standard deviation, is relatively high for both the overall dataset and the subset of high claim amounts.\n",
    "The distribution of high claim amounts is evident in the higher values of the 25th, 50th, and 75th percentiles for the subset."
   ]
  }
 ],
 "metadata": {
  "kernelspec": {
   "display_name": "Python 3 (ipykernel)",
   "language": "python",
   "name": "python3"
  },
  "language_info": {
   "codemirror_mode": {
    "name": "ipython",
    "version": 3
   },
   "file_extension": ".py",
   "mimetype": "text/x-python",
   "name": "python",
   "nbconvert_exporter": "python",
   "pygments_lexer": "ipython3",
   "version": "3.9.18"
  }
 },
 "nbformat": 4,
 "nbformat_minor": 5
}
